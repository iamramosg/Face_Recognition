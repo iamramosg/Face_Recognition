{
 "cells": [
  {
   "cell_type": "code",
   "execution_count": 19,
   "id": "f952e98f",
   "metadata": {},
   "outputs": [],
   "source": [
    "import cv2\n",
    "import os"
   ]
  },
  {
   "cell_type": "code",
   "execution_count": 22,
   "id": "4f30c991",
   "metadata": {},
   "outputs": [],
   "source": [
    "imagesPath = \"C:/Users/iamra/FacialRecognition2/Images\"\n",
    "\n",
    "if not os.path.exists(\"faces\"):\n",
    "    os.mkdirs(\"faces\")\n",
    "    print(\"Nueva carpeta: faces\")\n",
    "\n",
    "#Detector facial    \n",
    "faceClassif = cv2.CascadeClassifier(cv2.data.haarcascades + \"haarcascade_frontalface_default.xml\")"
   ]
  },
  {
   "cell_type": "code",
   "execution_count": 24,
   "id": "62315221",
   "metadata": {},
   "outputs": [
    {
     "name": "stdout",
     "output_type": "stream",
     "text": [
      "Elon Musk.jpg\n",
      "Jeff Bezos.jpg\n"
     ]
    }
   ],
   "source": [
    "count = 0\n",
    "for imageName in os.listdir(imagesPath):\n",
    "    print(imageName)\n",
    "    image = cv2.imread(imagesPath + \"/\" + imageName)\n",
    "    faces = faceClassif.detectMultiScale(image, 1.1, 5) \n",
    "    for(x, y, w, h) in faces:\n",
    "        face = image[y:y+h, x:x+w]\n",
    "        face = cv2.resize(face, (150, 150))\n",
    "        cv2.imwrite(\"faces/\" + str(count) + \".jpg\", face)\n",
    "        count += 1\n",
    "cv2.destroyAllWindows()"
   ]
  },
  {
   "cell_type": "code",
   "execution_count": null,
   "id": "4c55164d",
   "metadata": {},
   "outputs": [],
   "source": []
  }
 ],
 "metadata": {
  "kernelspec": {
   "display_name": "Python 3 (ipykernel)",
   "language": "python",
   "name": "python3"
  },
  "language_info": {
   "codemirror_mode": {
    "name": "ipython",
    "version": 3
   },
   "file_extension": ".py",
   "mimetype": "text/x-python",
   "name": "python",
   "nbconvert_exporter": "python",
   "pygments_lexer": "ipython3",
   "version": "3.9.16"
  }
 },
 "nbformat": 4,
 "nbformat_minor": 5
}
