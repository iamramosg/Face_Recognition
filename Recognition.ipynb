{
 "cells": [
  {
   "cell_type": "code",
   "execution_count": 1,
   "id": "5ac87f36",
   "metadata": {},
   "outputs": [],
   "source": [
    "import cv2\n",
    "import os \n",
    "import face_recognition"
   ]
  },
  {
   "cell_type": "code",
   "execution_count": 16,
   "id": "1e5aa856",
   "metadata": {},
   "outputs": [],
   "source": [
    "#Codificar los rostros extraidos\n",
    "imageFacePath = \"C:/Users/iamra/FacialRecognition2/Faces\"\n",
    "facesEncodings = []\n",
    "facesNames = []\n",
    "for file_name in os.listdir(imageFacePath):\n",
    "    #dlib necesita las imagenes en rgb\n",
    "    #opencv las lee en bgr\n",
    "    image = cv2.imread(imageFacePath + \"/\" + file_name)\n",
    "    image = cv2.cvtColor(image, cv2.COLOR_BGR2RGB)\n",
    "    \n",
    "    f_coding = face_recognition.face_encodings(image, known_face_locations=[(0, 150, 150, 0)])[0]\n",
    "    facesEncodings.append(f_coding)\n",
    "    facesNames.append(file_name.split(\".\")[0])\n",
    "    \n",
    "    \n",
    "#Leer video\n",
    "cap = cv2.VideoCapture(0, cv2.CAP_DSHOW)\n",
    "\n",
    "#Detector facial    \n",
    "faceClassif = cv2.CascadeClassifier(cv2.data.haarcascades + \"haarcascade_frontalface_default.xml\")\n",
    "\n",
    "while True:\n",
    "    ret, frame = cap.read()\n",
    "    if ret == False:\n",
    "        break\n",
    "    frame = cv2.flip(frame, 1)\n",
    "    orig = frame.copy()\n",
    "    faces = faceClassif.detectMultiScale(frame, 1.1, 5)\n",
    "    for(x, y, w, h) in faces:\n",
    "        face = orig[y:y + h, x:x + w]\n",
    "        face = cv2.cvtColor(face, cv2.COLOR_BGR2RGB)\n",
    "        actual_face_encoding = face_recognition.face_encodings(face, known_face_locations=[(0, w, h, 0)])[0]\n",
    "        result = face_recognition.compare_faces(facesEncodings, actual_face_encoding)\n",
    "        \n",
    "        \n",
    "        if True in result:\n",
    "            index = result.index(True)\n",
    "            name = facesNames[index]\n",
    "            color = (0, 255, 0)\n",
    "        else:\n",
    "            name = \"Desconocido\"\n",
    "            color = (0, 0, 255)\n",
    "        cv2.rectangle(frame, (x, y), (x + w, y + h), color, 2)\n",
    "        cv2.putText(frame, name, (x, y + h + 25), 2, 1, (255, 255, 255), 2, cv2.LINE_AA)\n",
    "    \n",
    "    cv2.imshow(\"Frame\", frame)\n",
    "    k = cv2.waitKey(1) & 0xFF\n",
    "    if k == 27:\n",
    "        break\n",
    "cap.release()\n",
    "cv2.destroyAllWindows()"
   ]
  },
  {
   "cell_type": "code",
   "execution_count": null,
   "id": "5d57dfc1",
   "metadata": {},
   "outputs": [],
   "source": []
  }
 ],
 "metadata": {
  "kernelspec": {
   "display_name": "Python 3 (ipykernel)",
   "language": "python",
   "name": "python3"
  },
  "language_info": {
   "codemirror_mode": {
    "name": "ipython",
    "version": 3
   },
   "file_extension": ".py",
   "mimetype": "text/x-python",
   "name": "python",
   "nbconvert_exporter": "python",
   "pygments_lexer": "ipython3",
   "version": "3.9.16"
  }
 },
 "nbformat": 4,
 "nbformat_minor": 5
}
